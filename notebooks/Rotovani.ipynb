{
 "cells": [
  {
   "cell_type": "code",
   "execution_count": 1,
   "metadata": {},
   "outputs": [],
   "source": [
    "from pathlib import Path\n",
    "from PIL import Image\n",
    "import glob\n",
    "import random\n",
    "import os"
   ]
  },
  {
   "cell_type": "code",
   "execution_count": 12,
   "metadata": {},
   "outputs": [],
   "source": [
    "data_folder = Path(\"../DATA/rotated_images/all\")\n",
    "output_folder = Path(\"../DATA/rotated_images/rotovane\")\n",
    "output_folder.mkdir(parents=True, exist_ok=True) "
   ]
  },
  {
   "cell_type": "code",
   "execution_count": 18,
   "metadata": {},
   "outputs": [],
   "source": [
    "def saveRotatedImages(image_name):\n",
    "    substring = image_name[:-4]\n",
    "    print(substring)\n",
    "    image = Image.open(data_folder / image_name)\n",
    "    for i in range(-10,11,1):\n",
    "        angle = i/2\n",
    "        rotated_image = image.rotate(angle + (random.randrange(-1,1,1)/10))\n",
    "        path_for_rotated_image = output_folder / (substring + \"__rot_\" + str(angle) + \".jpg\")\n",
    "        rotated_image.save(path_for_rotated_image)"
   ]
  },
  {
   "cell_type": "code",
   "execution_count": 22,
   "metadata": {},
   "outputs": [],
   "source": [
    "image = Image.open('../DATA/rotated_images/test_set/MZK_0000_542_19_10v.jpg')\n",
    "rotated_image = image.rotate(-1.2)\n",
    "rotated_image.show()"
   ]
  },
  {
   "cell_type": "code",
   "execution_count": 20,
   "metadata": {},
   "outputs": [
    {
     "name": "stdout",
     "output_type": "stream",
     "text": [
      "MZK_0000_542_21_3v\n",
      "MZK_0000_175_34_5v\n",
      "MZK_0000_203_12_04v\n",
      "MZK_0000_542_21_3r\n",
      "MZK_0000_085_01_04v\n",
      "MZK_0000_085_01_06v\n",
      "MZK_0000_085_01_04r\n",
      "MZK_0000_542_21_6r\n",
      "MZK_0000_316_04_1r\n",
      "MZK_0000_542_21_5r\n",
      "MZK_0000_203_12_01r\n",
      "MZK_0000_316_04_4r\n",
      "MZK_0000_203_12_03v\n",
      "MZK_0000_542_21_2r\n",
      "MZK_0000_085_01_05v\n",
      "MZK_0000_175_34_5r\n",
      "MZK_0000_203_12_02v\n",
      "MZK_0000_542_21_4v\n",
      "MZK_0000_542_21_5v\n",
      "MZK_0000_175_34_6r\n",
      "MZK_0000_085_01_05r\n",
      "MZK_0000_085_01_02v\n",
      "MZK_0000_175_34_3v\n",
      "MZK_0000_085_01_06r\n",
      "MZK_0000_316_04_3r\n",
      "MZK_0000_203_12_03r\n",
      "MZK_0000_175_34_7v\n",
      "MZK_0000_175_34_2v\n",
      "MZK_0000_203_12_02r\n",
      "MZK_0000_203_12_01v\n",
      "MZK_0000_542_21_7v\n",
      "MZK_0000_542_21_2v\n",
      "MZK_0000_316_04_2r\n",
      "MZK_0000_316_04_3v\n",
      "MZK_0000_203_12_05r\n",
      "MZK_0000_203_12_04r\n",
      "MZK_0000_316_04_4v\n",
      "MZK_0000_175_34_8r\n",
      "MZK_0000_542_21_7r\n",
      "MZK_0000_175_34_2r\n",
      "MZK_0000_542_21_4r\n",
      "MZK_0000_542_21_6v\n",
      "MZK_0000_085_01_03r\n",
      "MZK_0000_316_04_2v\n",
      "MZK_0000_175_34_3r\n",
      "MZK_0000_175_34_4v\n",
      "MZK_0000_175_34_7r\n",
      "MZK_0000_175_34_6v\n",
      "MZK_0000_085_01_03v\n",
      "MZK_0000_175_34_4r\n",
      "MZK_0000_316_04_1v\n"
     ]
    }
   ],
   "source": [
    "images = [f for f in glob.glob(\"../DATA/rotated_images/all/*.jpg\")]\n",
    "for image_path in images:\n",
    "    image_name = image_path.split(\"/\")[-1]\n",
    "    saveRotatedImages(image_name)"
   ]
  },
  {
   "cell_type": "code",
   "execution_count": 47,
   "metadata": {},
   "outputs": [
    {
     "name": "stdout",
     "output_type": "stream",
     "text": [
      "0.2\n",
      "0.3\n",
      "-0.2\n",
      "0.2\n",
      "0.0\n",
      "-0.2\n",
      "0.2\n",
      "0.1\n",
      "-0.3\n",
      "-0.3\n",
      "-0.3\n",
      "0.3\n",
      "0.0\n",
      "0.3\n",
      "-0.2\n",
      "0.3\n",
      "0.0\n",
      "0.1\n",
      "-0.2\n",
      "0.1\n",
      "-0.3\n",
      "-0.2\n",
      "-0.2\n",
      "-0.2\n",
      "0.0\n",
      "0.2\n",
      "0.2\n",
      "0.3\n",
      "-0.2\n",
      "-0.2\n"
     ]
    }
   ],
   "source": [
    "for i in range(30):\n",
    "    print(random.randrange(-3,4,1)/10)\n"
   ]
  },
  {
   "cell_type": "code",
   "execution_count": 42,
   "metadata": {},
   "outputs": [
    {
     "data": {
      "text/plain": [
       "0.1"
      ]
     },
     "execution_count": 42,
     "metadata": {},
     "output_type": "execute_result"
    }
   ],
   "source": [
    "random.randrange(-3,3,1)/10"
   ]
  }
 ],
 "metadata": {
  "kernelspec": {
   "display_name": "Python 3",
   "language": "python",
   "name": "python3"
  },
  "language_info": {
   "codemirror_mode": {
    "name": "ipython",
    "version": 3
   },
   "file_extension": ".py",
   "mimetype": "text/x-python",
   "name": "python",
   "nbconvert_exporter": "python",
   "pygments_lexer": "ipython3",
   "version": "3.6.9"
  }
 },
 "nbformat": 4,
 "nbformat_minor": 2
}
